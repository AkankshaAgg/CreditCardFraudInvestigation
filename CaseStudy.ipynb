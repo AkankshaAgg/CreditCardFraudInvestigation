{
  "nbformat": 4,
  "nbformat_minor": 0,
  "metadata": {
    "colab": {
      "name": "CaseStudy.ipynb",
      "provenance": [],
      "collapsed_sections": []
    },
    "kernelspec": {
      "name": "python3",
      "display_name": "Python 3"
    }
  },
  "cells": [
    {
      "cell_type": "code",
      "metadata": {
        "id": "yY0Q8IZQq1BJ",
        "colab_type": "code",
        "colab": {}
      },
      "source": [
        "#Find frauds using unsupervised SOM\n",
        "import numpy as np\n",
        "import matplotlib.pyplot as plt\n",
        "import pandas as pd"
      ],
      "execution_count": 15,
      "outputs": []
    },
    {
      "cell_type": "code",
      "metadata": {
        "id": "jyx_kMxQrsUP",
        "colab_type": "code",
        "colab": {}
      },
      "source": [
        "dataset = pd.read_csv('Credit_Card_Applications.csv')\n",
        "X = dataset.iloc[:, :-1].values\n",
        "y = dataset.iloc[:, -1].values"
      ],
      "execution_count": 16,
      "outputs": []
    },
    {
      "cell_type": "code",
      "metadata": {
        "id": "_ql96KnnrzS2",
        "colab_type": "code",
        "colab": {}
      },
      "source": [
        "#Feature Scaling\n",
        "from sklearn.preprocessing import MinMaxScaler\n",
        "sc = MinMaxScaler(feature_range = (0, 1))\n",
        "X = sc.fit_transform(X)"
      ],
      "execution_count": 17,
      "outputs": []
    },
    {
      "cell_type": "code",
      "metadata": {
        "id": "45GFlp-Kr2SM",
        "colab_type": "code",
        "colab": {}
      },
      "source": [
        "#Training Self Organising Maps\n",
        "from minisom import MiniSom\n",
        "som = MiniSom(x = 10, y = 10, input_len = 15, sigma = 1.0, learning_rate = 0.5)\n",
        "som.random_weights_init(X)\n",
        "som.train_random(data = X, num_iteration = 100)"
      ],
      "execution_count": 18,
      "outputs": []
    },
    {
      "cell_type": "code",
      "metadata": {
        "id": "OQHsWzLOr5Xk",
        "colab_type": "code",
        "colab": {
          "base_uri": "https://localhost:8080/",
          "height": 269
        },
        "outputId": "44249bc6-ad2d-416c-d54b-8a94ab88a1c7"
      },
      "source": [
        "#Visualisation\n",
        "from pylab import bone, pcolor, colorbar, plot, show\n",
        "bone()\n",
        "pcolor(som.distance_map().T)\n",
        "colorbar()\n",
        "markers = ['o', 's']\n",
        "colors = ['r', 'g'] #red circles approval not given and green squares approval given\n",
        "for i, x in enumerate(X):\n",
        "    w = som.winner(x)\n",
        "    plot(w[0] + 0.5,\n",
        "         w[1] + 0.5,\n",
        "         markers[y[i]],\n",
        "         markeredgecolor = colors[y[i]],\n",
        "         markerfacecolor = 'None',\n",
        "         markersize = 10,\n",
        "         markeredgewidth = 2)\n",
        "show()"
      ],
      "execution_count": 19,
      "outputs": [
        {
          "output_type": "display_data",
          "data": {
            "image/png": "[encoded data removed]",
            "text/plain": [
              "<Figure size 432x288 with 2 Axes>"
            ]
          },
          "metadata": {
            "tags": [],
            "needs_background": "light"
          }
        }
      ]
    },
    {
      "cell_type": "code",
      "metadata": {
        "id": "oE_sId4or8Nk",
        "colab_type": "code",
        "colab": {}
      },
      "source": [
        "# Find frauds\n",
        "mappings = som.win_map(X)\n",
        "frauds = np.concatenate((mappings[(1,5)], mappings[(5,2)]), axis = 0)\n",
        "frauds = sc.inverse_transform(frauds)"
      ],
      "execution_count": 20,
      "outputs": []
    },
    {
      "cell_type": "code",
      "metadata": {
        "id": "PmgHbWCzsF0m",
        "colab_type": "code",
        "colab": {
          "base_uri": "https://localhost:8080/",
          "height": 799
        },
        "outputId": "4da8a1d5-14fe-4361-def5-5095e1458f7a"
      },
      "source": [
        "print('Fraud Customer IDs')\n",
        "for i in frauds[:, 0]:\n",
        "  print(int(i))"
      ],
      "execution_count": 21,
      "outputs": [
        {
          "output_type": "stream",
          "text": [
            "Fraud Customer IDs\n",
            "15739548\n",
            "15699839\n",
            "15648069\n",
            "15672894\n",
            "15783883\n",
            "15756538\n",
            "15651868\n",
            "15801473\n",
            "15694666\n",
            "15728523\n",
            "15716082\n",
            "15699238\n",
            "15593959\n",
            "15651460\n",
            "15672637\n",
            "15794204\n",
            "15734008\n",
            "15592999\n",
            "15757434\n",
            "15769548\n",
            "15742009\n",
            "15752344\n",
            "15736533\n",
            "15673907\n",
            "15737909\n",
            "15779207\n",
            "15611409\n",
            "15752578\n",
            "15721504\n",
            "15636454\n",
            "15608916\n",
            "15615296\n",
            "15805261\n",
            "15789611\n",
            "15738487\n",
            "15773421\n",
            "15781875\n",
            "15809837\n",
            "15761554\n",
            "15793825\n",
            "15811690\n",
            "15815095\n",
            "15772941\n",
            "15750104\n",
            "15759387\n"
          ],
          "name": "stdout"
        }
      ]
    },
    {
      "cell_type": "code",
      "metadata": {
        "id": "e7zdAvFSsJ3w",
        "colab_type": "code",
        "colab": {}
      },
      "source": [
        "#Going from unsupervised to supervised learning\n",
        "customers = dataset.iloc[:, 1:].values"
      ],
      "execution_count": 22,
      "outputs": []
    },
    {
      "cell_type": "code",
      "metadata": {
        "id": "BYMydKses1SL",
        "colab_type": "code",
        "colab": {}
      },
      "source": [
        "#create dependent variables\n",
        "is_fraud = np.zeros(len(dataset))\n",
        "for i in range(len(dataset)):\n",
        "  if dataset.iloc[i,0] in frauds:\n",
        "    is_fraud[i] = 1"
      ],
      "execution_count": 23,
      "outputs": []
    },
    {
      "cell_type": "code",
      "metadata": {
        "id": "UvwJi8UDtqjx",
        "colab_type": "code",
        "colab": {}
      },
      "source": [
        "from sklearn.preprocessing import StandardScaler\n",
        "sc = StandardScaler()\n",
        "customers = sc.fit_transform(customers)"
      ],
      "execution_count": 24,
      "outputs": []
    },
    {
      "cell_type": "code",
      "metadata": {
        "id": "5Y6kiOzguiq5",
        "colab_type": "code",
        "colab": {
          "base_uri": "https://localhost:8080/",
          "height": 34
        },
        "outputId": "3637a2ad-a33d-4c8e-9ccc-9849113564e1"
      },
      "source": [
        "import tensorflow as tf\n",
        "tf.__version__"
      ],
      "execution_count": 25,
      "outputs": [
        {
          "output_type": "execute_result",
          "data": {
            "text/plain": [
              "'2.2.0'"
            ]
          },
          "metadata": {
            "tags": []
          },
          "execution_count": 25
        }
      ]
    },
    {
      "cell_type": "code",
      "metadata": {
        "id": "zedgBf1ru_KU",
        "colab_type": "code",
        "colab": {
          "base_uri": "https://localhost:8080/",
          "height": 374
        },
        "outputId": "2cdba1d2-619f-4589-86b0-8eb27d34eec6"
      },
      "source": [
        "ann = tf.keras.models.Sequential()\n",
        "#add input and first hidden layer\n",
        "ann.add(tf.keras.layers.Dense(units=2, activation='relu'))\n",
        "#add output layer\n",
        "ann.add(tf.keras.layers.Dense(units=1, activation='sigmoid'))\n",
        "#Compile\n",
        "ann.compile(optimizer = 'adam', loss = 'binary_crossentropy', metrics = ['accuracy'])\n",
        "ann.fit(customers, is_fraud, batch_size = 1, epochs = 10)"
      ],
      "execution_count": 26,
      "outputs": [
        {
          "output_type": "stream",
          "text": [
            "Epoch 1/10\n",
            "690/690 [==============================] - 1s 894us/step - loss: 0.8338 - accuracy: 0.6043\n",
            "Epoch 2/10\n",
            "690/690 [==============================] - 1s 902us/step - loss: 0.5032 - accuracy: 0.8812\n",
            "Epoch 3/10\n",
            "690/690 [==============================] - 1s 896us/step - loss: 0.3783 - accuracy: 0.9275\n",
            "Epoch 4/10\n",
            "690/690 [==============================] - 1s 916us/step - loss: 0.3186 - accuracy: 0.9333\n",
            "Epoch 5/10\n",
            "690/690 [==============================] - 1s 955us/step - loss: 0.2837 - accuracy: 0.9333\n",
            "Epoch 6/10\n",
            "690/690 [==============================] - 1s 941us/step - loss: 0.2565 - accuracy: 0.9348\n",
            "Epoch 7/10\n",
            "690/690 [==============================] - 1s 929us/step - loss: 0.2280 - accuracy: 0.9348\n",
            "Epoch 8/10\n",
            "690/690 [==============================] - 1s 935us/step - loss: 0.1905 - accuracy: 0.9348\n",
            "Epoch 9/10\n",
            "690/690 [==============================] - 1s 930us/step - loss: 0.1561 - accuracy: 0.9391\n",
            "Epoch 10/10\n",
            "690/690 [==============================] - 1s 944us/step - loss: 0.1361 - accuracy: 0.9478\n"
          ],
          "name": "stdout"
        },
        {
          "output_type": "execute_result",
          "data": {
            "text/plain": [
              "<tensorflow.python.keras.callbacks.History at 0x7f1a943d75c0>"
            ]
          },
          "metadata": {
            "tags": []
          },
          "execution_count": 26
        }
      ]
    },
    {
      "cell_type": "code",
      "metadata": {
        "id": "m10dEB4iwUlI",
        "colab_type": "code",
        "colab": {}
      },
      "source": [
        "#Predict probabilities of fraud\n",
        "y_pred = ann.predict(customers)\n",
        "y_pred = np.concatenate((dataset.iloc[:, 0:1].values, y_pred), axis = 1)\n",
        "y_pred = y_pred[y_pred[:, 1].argsort()]"
      ],
      "execution_count": 27,
      "outputs": []
    },
    {
      "cell_type": "code",
      "metadata": {
        "id": "pI_5Wc6VysvK",
        "colab_type": "code",
        "colab": {
          "base_uri": "https://localhost:8080/",
          "height": 136
        },
        "outputId": "1c804c4c-20eb-4daa-d780-2bd85be67fb4"
      },
      "source": [
        "print(y_pred)"
      ],
      "execution_count": 28,
      "outputs": [
        {
          "output_type": "stream",
          "text": [
            "[[1.57901130e+07 2.39729881e-04]\n",
            " [1.56921370e+07 5.35100698e-04]\n",
            " [1.58052120e+07 7.41779804e-04]\n",
            " ...\n",
            " [1.56514600e+07 6.63974643e-01]\n",
            " [1.56114090e+07 6.80615425e-01]\n",
            " [1.56364540e+07 7.16349006e-01]]\n"
          ],
          "name": "stdout"
        }
      ]
    }
  ]
}